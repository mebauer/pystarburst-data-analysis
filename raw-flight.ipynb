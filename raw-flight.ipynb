{
 "cells": [
  {
   "cell_type": "markdown",
   "id": "7538bfab",
   "metadata": {},
   "source": [
    "# PyStarburst for Data Analysis\n",
    "This notebook accompanies the course [Use PyStarburst for Data Analysis](https://academy.starburst.io/getting-started-with-pystarburst/192527), which is part of the overall course [Getting Started with PyStarburst](https://academy.starburst.io/getting-started-with-pystarburst) on Starburst Academy.  \n",
    "\n",
    "Course author: Starburst Academy Team  \n",
    "Notebook author: Mark Bauer"
   ]
  },
  {
   "cell_type": "code",
   "execution_count": 1,
   "id": "96261768",
   "metadata": {},
   "outputs": [],
   "source": [
    "import os\n",
    "import trino\n",
    "from pystarburst import Session\n",
    "from pystarburst import functions as f\n",
    "from pystarburst.functions import col, lag, round, row_number\n",
    "from pystarburst.window import Window"
   ]
  },
  {
   "cell_type": "markdown",
   "id": "eaa55cc5",
   "metadata": {},
   "source": [
    "To reproduce the results and follow along, you'll need to set up your environment in Starburst. You can prepare your environment by visiting: https://academy.starburst.io/getting-started-with-pystarburst/192527."
   ]
  },
  {
   "cell_type": "code",
   "execution_count": 2,
   "id": "aa890a46",
   "metadata": {},
   "outputs": [
    {
     "name": "stdout",
     "output_type": "stream",
     "text": [
      "<class 'pystarburst.session.Session'>\n"
     ]
    }
   ],
   "source": [
    "host = str(os.getenv('host'))\n",
    "port = os.getenv('port')\n",
    "http_scheme = str(os.getenv('http_scheme'))\n",
    "username = str(os.getenv('username'))\n",
    "password = str(os.getenv('password'))\n",
    "\n",
    "db_parameters = {\n",
    "    \"host\": host,\n",
    "    \"port\": port,\n",
    "    \"http_scheme\": http_scheme,\n",
    "    # Setup authentication through login or password or any other supported authentication methods\n",
    "    # See docs: https://github.com/trinodb/trino-python-client#authentication-mechanisms\n",
    "    \"auth\": trino.auth.BasicAuthentication(username, password)\n",
    "}\n",
    "session = Session.builder.configs(db_parameters).create()\n",
    "\n",
    "print(type(session))"
   ]
  },
  {
   "cell_type": "markdown",
   "id": "f19d18a4",
   "metadata": {},
   "source": [
    "**Never** show your username and password publicly."
   ]
  },
  {
   "cell_type": "markdown",
   "id": "feb4b6ab",
   "metadata": {},
   "source": [
    "Learn how to save [environmental variables](https://conda.io/projects/conda/en/latest/user-guide/tasks/manage-environments.html) in conda."
   ]
  },
  {
   "cell_type": "markdown",
   "id": "8b5164d1",
   "metadata": {},
   "source": [
    "# Analyze Aviation Data"
   ]
  },
  {
   "cell_type": "code",
   "execution_count": 3,
   "id": "589a8b44",
   "metadata": {},
   "outputs": [
    {
     "name": "stdout",
     "output_type": "stream",
     "text": [
      "<class 'pystarburst.table.Table'>\n"
     ]
    }
   ],
   "source": [
    "allFs = session.table(\"tmp_cat.aviation.raw_flight\")\n",
    "print(type(allFs))"
   ]
  },
  {
   "cell_type": "code",
   "execution_count": 4,
   "id": "8c094501",
   "metadata": {},
   "outputs": [
    {
     "name": "stdout",
     "output_type": "stream",
     "text": [
      "2056494\n"
     ]
    }
   ],
   "source": [
    "print(allFs.count())"
   ]
  },
  {
   "cell_type": "code",
   "execution_count": 5,
   "id": "e680ecb9",
   "metadata": {},
   "outputs": [
    {
     "name": "stdout",
     "output_type": "stream",
     "text": [
      "-----------------------------------------\n",
      "|\"country\"                    |\"count\"  |\n",
      "-----------------------------------------\n",
      "|USA                          |3363     |\n",
      "|GA                           |2        |\n",
      "|NMarianaIslands              |1        |\n",
      "|country                      |1        |\n",
      "|Palau                        |1        |\n",
      "|Thailand                     |1        |\n",
      "|NY                           |1        |\n",
      "|OK                           |1        |\n",
      "|PA                           |1        |\n",
      "|FederatedStatesofMicronesia  |1        |\n",
      "-----------------------------------------\n",
      "\n"
     ]
    }
   ],
   "source": [
    "# get the whole table, aggregate & sort\n",
    "mostAs = (\n",
    "    session \n",
    "    .table(\"tmp_cat.aviation.raw_airport\") \n",
    "    .group_by(\"country\").count() \n",
    "    .sort(\"count\", ascending=False)\n",
    ")\n",
    "\n",
    "mostAs.show()"
   ]
  },
  {
   "cell_type": "code",
   "execution_count": 6,
   "id": "046a3ae0",
   "metadata": {},
   "outputs": [
    {
     "name": "stdout",
     "output_type": "stream",
     "text": [
      "--------------------\n",
      "|\"carr\"  |\"count\"  |\n",
      "--------------------\n",
      "|WN      |356167   |\n",
      "|AA      |175969   |\n",
      "|OO      |166445   |\n",
      "|MQ      |141178   |\n",
      "|US      |133403   |\n",
      "--------------------\n",
      "\n"
     ]
    }
   ],
   "source": [
    "# get the whole table, aggregate & sort\n",
    "mostFs = (\n",
    "    session \n",
    "    .table(\"tmp_cat.aviation.raw_flight\") \n",
    "    .group_by(\"unique_carrier\").count() \n",
    "    .rename(\"unique_carrier\", \"carr\") \n",
    "    .sort(\"count\", ascending=False)\n",
    ")\n",
    "\n",
    "mostFs.show(5)"
   ]
  },
  {
   "cell_type": "code",
   "execution_count": 7,
   "id": "426acd78",
   "metadata": {},
   "outputs": [
    {
     "name": "stdout",
     "output_type": "stream",
     "text": [
      "-----------------------------------------------------\n",
      "|\"carr\"  |\"count\"  |\"description\"                   |\n",
      "-----------------------------------------------------\n",
      "|WN      |356167   |Southwest Airlines Co.          |\n",
      "|AA      |175969   |American Airlines Inc.          |\n",
      "|OO      |166445   |Skywest Airlines Inc.           |\n",
      "|MQ      |141178   |American Eagle Airlines Inc.    |\n",
      "|US      |133403   |US Airways Inc. (Merged wit...  |\n",
      "-----------------------------------------------------\n",
      "\n"
     ]
    }
   ],
   "source": [
    "# get all of the carriers\n",
    "allCs = session.table(\"tmp_cat.aviation.raw_carrier\")\n",
    " \n",
    "# repurpose mostFs from above (or chain on it) \n",
    "#   to join the 2 DFs and sort the results that\n",
    "#   have already been grouped\n",
    "top5CarrNm = (\n",
    "    mostFs \n",
    "    .join(allCs, mostFs.carr == allCs.code) \n",
    "    .drop(\"code\") \n",
    "    .sort(\"count\", ascending=False)\n",
    ")\n",
    "\n",
    "top5CarrNm.show(5, 30)"
   ]
  },
  {
   "cell_type": "code",
   "execution_count": 8,
   "id": "93167efe",
   "metadata": {},
   "outputs": [
    {
     "name": "stdout",
     "output_type": "stream",
     "text": [
      "----------------------\n",
      "|\"model\"   |\"count\"  |\n",
      "----------------------\n",
      "|A320-232  |28926    |\n",
      "|737-7H4   |21597    |\n",
      "|757-222   |14609    |\n",
      "|757-232   |12972    |\n",
      "|737-824   |10789    |\n",
      "|737-832   |9393     |\n",
      "|A319-131  |5881     |\n",
      "|A321-211  |4921     |\n",
      "|767-332   |4522     |\n",
      "|A319-132  |4480     |\n",
      "----------------------\n",
      "\n"
     ]
    }
   ],
   "source": [
    "# trimFs are flights projected & filtered\n",
    "trimFs = (\n",
    "    session.table(\"tmp_cat.aviation.raw_flight\") \n",
    "    .rename(\"tail_number\", \"tNbr\") \n",
    "    .select(\"tNbr\", \"distance\") \n",
    "    .filter(col(\"distance\") > 1500) \n",
    ")\n",
    " \n",
    "# trimPs are planes table projected & filtered\n",
    "trimPs = (\n",
    "    session.table(\"tmp_cat.aviation.raw_plane\") \n",
    "    .select(\"tail_number\", \"model\") \n",
    "    .filter(\"model is not null\")\n",
    ")\n",
    " \n",
    "# join, group & sort\n",
    "q5Answer = (\n",
    "    trimFs \n",
    "    .join(trimPs, trimFs.tNbr == trimPs.tail_number) \n",
    "    .drop(\"tail_number\") \n",
    "    .group_by(\"model\").count() \n",
    "    .sort(\"count\", ascending=False) \n",
    ")\n",
    "\n",
    "q5Answer.show()"
   ]
  },
  {
   "cell_type": "code",
   "execution_count": 9,
   "id": "44e61dc1",
   "metadata": {},
   "outputs": [],
   "source": [
    "# temp DF holds counts for each originating airport \n",
    "#   by month\n",
    "aggFlights = (\n",
    "    session.table(\"tmp_cat.aviation.raw_flight\") \n",
    "    .select(\"origination\", \"month\") \n",
    "    .rename(\"origination\", \"orig\") \n",
    "    .group_by(\"orig\", \"month\").count() \n",
    "    .rename(\"count\", \"num_fs\")\n",
    ")"
   ]
  },
  {
   "cell_type": "code",
   "execution_count": 10,
   "id": "6c8b4b7f",
   "metadata": {},
   "outputs": [],
   "source": [
    "# define a window specification\n",
    "w1 = Window.partition_by(\"orig\").order_by(\"month\")\n",
    " \n",
    "# add col to grab the prior row's nbr flights\n",
    "changeFlights = (\n",
    "    aggFlights \n",
    "    .withColumn(\"num_fs_b4\", \n",
    "        lag(\"num_fs\",1).over(w1))\n",
    ")"
   ]
  },
  {
   "cell_type": "code",
   "execution_count": 11,
   "id": "807a02e5",
   "metadata": {},
   "outputs": [
    {
     "name": "stdout",
     "output_type": "stream",
     "text": [
      "----------------------------------------------------------\n",
      "|\"orig\"  |\"month\"  |\"num_fs\"  |\"num_fs_b4\"  |\"perc_chg\"  |\n",
      "----------------------------------------------------------\n",
      "|ABE     |1        |99        |NULL         |NULL        |\n",
      "|ABE     |2        |111       |99           |0.1         |\n",
      "|ABE     |3        |127       |111          |0.1         |\n",
      "|ABE     |4        |142       |127          |0.1         |\n",
      "|ABE     |5        |137       |142          |-0.0        |\n",
      "|ABE     |6        |116       |137          |-0.2        |\n",
      "|ABE     |7        |113       |116          |-0.0        |\n",
      "|ABE     |8        |106       |113          |-0.1        |\n",
      "|ABE     |9        |94        |106          |-0.1        |\n",
      "|ABE     |10       |140       |94           |0.5         |\n",
      "----------------------------------------------------------\n",
      "\n"
     ]
    }
   ],
   "source": [
    "# add col for the percentage change\n",
    "q6Answer = (\n",
    "    changeFlights \n",
    "    .withColumn(\"perc_chg\", \n",
    "        round((1.0 * (col(\"num_fs\") - col(\"num_fs_b4\")) / \n",
    "              (1.0 * col(\"num_fs_b4\"))), 1))\n",
    ")\n",
    "\n",
    "q6Answer.show()"
   ]
  },
  {
   "cell_type": "code",
   "execution_count": 12,
   "id": "d45e2f17",
   "metadata": {},
   "outputs": [],
   "source": [
    "# determine counts from orig>dest pairs\n",
    "popularRoutes = (\n",
    "    session \n",
    "    .table(\"tmp_cat.aviation.raw_flight\") \n",
    "    .rename(\"origination\", \"orig\") \n",
    "    .rename(\"destination\", \"dest\") \n",
    "    .group_by(\"orig\", \"dest\").count() \n",
    "    .rename(\"count\", \"num_fs\")\n",
    ")"
   ]
  },
  {
   "cell_type": "code",
   "execution_count": 13,
   "id": "04527d38",
   "metadata": {},
   "outputs": [],
   "source": [
    "# define a window specification\n",
    "w2 = (\n",
    "    Window.partition_by(\"orig\") \n",
    "    .order_by(col(\"num_fs\").desc())\n",
    ")\n",
    " \n",
    "# add col to put the curr row's ranking in\n",
    "rankedRoutes = (\n",
    "    popularRoutes \n",
    "    .withColumn(\"rank\", \n",
    "        row_number().over(w2))\n",
    ")"
   ]
  },
  {
   "cell_type": "code",
   "execution_count": 14,
   "id": "6c92dc85",
   "metadata": {},
   "outputs": [
    {
     "name": "stdout",
     "output_type": "stream",
     "text": [
      "---------------------------------------\n",
      "|\"orig\"  |\"dest\"  |\"num_fs\"  |\"rank\"  |\n",
      "---------------------------------------\n",
      "|ABE     |ORD     |420       |1       |\n",
      "|ABE     |DTW     |282       |2       |\n",
      "|ABE     |ATL     |247       |3       |\n",
      "|ABI     |DFW     |773       |1       |\n",
      "|ABQ     |PHX     |1619      |1       |\n",
      "|ABQ     |DEN     |1254      |2       |\n",
      "|ABQ     |DAL     |951       |3       |\n",
      "|ABY     |ATL     |338       |1       |\n",
      "|ACK     |EWR     |62        |1       |\n",
      "|ACK     |JFK     |58        |2       |\n",
      "|ACT     |DFW     |567       |1       |\n",
      "|ACV     |SFO     |705       |1       |\n",
      "|ACV     |SMF     |175       |2       |\n",
      "|ACV     |SLC     |134       |3       |\n",
      "|ACY     |ATL     |34        |1       |\n",
      "|ACY     |JFK     |1         |2       |\n",
      "|ACY     |LGA     |1         |3       |\n",
      "---------------------------------------\n",
      "\n"
     ]
    }
   ],
   "source": [
    "# just show up to 3 for each orig airport\n",
    "q7Answer = (\n",
    "    rankedRoutes \n",
    "    .filter(col(\"rank\") <= 3) \n",
    "    .sort(\"orig\", \"rank\")\n",
    ")\n",
    "\n",
    "q7Answer.show(17);"
   ]
  },
  {
   "cell_type": "code",
   "execution_count": null,
   "id": "8b4b804b",
   "metadata": {},
   "outputs": [],
   "source": []
  }
 ],
 "metadata": {
  "kernelspec": {
   "display_name": "Python 3 (ipykernel)",
   "language": "python",
   "name": "python3"
  },
  "language_info": {
   "codemirror_mode": {
    "name": "ipython",
    "version": 3
   },
   "file_extension": ".py",
   "mimetype": "text/x-python",
   "name": "python",
   "nbconvert_exporter": "python",
   "pygments_lexer": "ipython3",
   "version": "3.11.0"
  }
 },
 "nbformat": 4,
 "nbformat_minor": 5
}
